{
 "cells": [
  {
   "cell_type": "markdown",
   "id": "cbdfaa1a",
   "metadata": {},
   "source": [
    "\n",
    "# Importing the Libraries"
   ]
  },
  {
   "cell_type": "code",
   "execution_count": 2,
   "id": "1c3f20c8",
   "metadata": {},
   "outputs": [],
   "source": [
    "import numpy as np\n",
    "import pandas as pd\n",
    "import matplotlib.pyplot as plt\n",
    "import seaborn as sns\n",
    "from sklearn.model_selection import train_test_split\n",
    "from sklearn.ensemble import RandomForestRegressor\n",
    "from sklearn import metrics\n"
   ]
  },
  {
   "cell_type": "markdown",
   "id": "26d95eaf",
   "metadata": {},
   "source": [
    "# Data Collection and Processing"
   ]
  },
  {
   "cell_type": "code",
   "execution_count": 3,
   "id": "4140bc80",
   "metadata": {},
   "outputs": [],
   "source": [
    "gold_price = pd.read_csv('gld_price_data.csv')"
   ]
  },
  {
   "cell_type": "code",
   "execution_count": 4,
   "id": "e50922cd",
   "metadata": {},
   "outputs": [
    {
     "data": {
      "text/html": [
       "<div>\n",
       "<style scoped>\n",
       "    .dataframe tbody tr th:only-of-type {\n",
       "        vertical-align: middle;\n",
       "    }\n",
       "\n",
       "    .dataframe tbody tr th {\n",
       "        vertical-align: top;\n",
       "    }\n",
       "\n",
       "    .dataframe thead th {\n",
       "        text-align: right;\n",
       "    }\n",
       "</style>\n",
       "<table border=\"1\" class=\"dataframe\">\n",
       "  <thead>\n",
       "    <tr style=\"text-align: right;\">\n",
       "      <th></th>\n",
       "      <th>Date</th>\n",
       "      <th>SPX</th>\n",
       "      <th>GLD</th>\n",
       "      <th>USO</th>\n",
       "      <th>SLV</th>\n",
       "      <th>EUR/USD</th>\n",
       "    </tr>\n",
       "  </thead>\n",
       "  <tbody>\n",
       "    <tr>\n",
       "      <th>0</th>\n",
       "      <td>1/2/2008</td>\n",
       "      <td>1447.160034</td>\n",
       "      <td>84.860001</td>\n",
       "      <td>78.470001</td>\n",
       "      <td>15.180</td>\n",
       "      <td>1.471692</td>\n",
       "    </tr>\n",
       "    <tr>\n",
       "      <th>1</th>\n",
       "      <td>1/3/2008</td>\n",
       "      <td>1447.160034</td>\n",
       "      <td>85.570000</td>\n",
       "      <td>78.370003</td>\n",
       "      <td>15.285</td>\n",
       "      <td>1.474491</td>\n",
       "    </tr>\n",
       "    <tr>\n",
       "      <th>2</th>\n",
       "      <td>1/4/2008</td>\n",
       "      <td>1411.630005</td>\n",
       "      <td>85.129997</td>\n",
       "      <td>77.309998</td>\n",
       "      <td>15.167</td>\n",
       "      <td>1.475492</td>\n",
       "    </tr>\n",
       "    <tr>\n",
       "      <th>3</th>\n",
       "      <td>1/7/2008</td>\n",
       "      <td>1416.180054</td>\n",
       "      <td>84.769997</td>\n",
       "      <td>75.500000</td>\n",
       "      <td>15.053</td>\n",
       "      <td>1.468299</td>\n",
       "    </tr>\n",
       "    <tr>\n",
       "      <th>4</th>\n",
       "      <td>1/8/2008</td>\n",
       "      <td>1390.189941</td>\n",
       "      <td>86.779999</td>\n",
       "      <td>76.059998</td>\n",
       "      <td>15.590</td>\n",
       "      <td>1.557099</td>\n",
       "    </tr>\n",
       "  </tbody>\n",
       "</table>\n",
       "</div>"
      ],
      "text/plain": [
       "       Date          SPX        GLD        USO     SLV   EUR/USD\n",
       "0  1/2/2008  1447.160034  84.860001  78.470001  15.180  1.471692\n",
       "1  1/3/2008  1447.160034  85.570000  78.370003  15.285  1.474491\n",
       "2  1/4/2008  1411.630005  85.129997  77.309998  15.167  1.475492\n",
       "3  1/7/2008  1416.180054  84.769997  75.500000  15.053  1.468299\n",
       "4  1/8/2008  1390.189941  86.779999  76.059998  15.590  1.557099"
      ]
     },
     "execution_count": 4,
     "metadata": {},
     "output_type": "execute_result"
    }
   ],
   "source": [
    "#print first 5 row in the data frame\n",
    "gold_price.head()"
   ]
  },
  {
   "cell_type": "code",
   "execution_count": 5,
   "id": "b30462f7",
   "metadata": {},
   "outputs": [
    {
     "data": {
      "text/html": [
       "<div>\n",
       "<style scoped>\n",
       "    .dataframe tbody tr th:only-of-type {\n",
       "        vertical-align: middle;\n",
       "    }\n",
       "\n",
       "    .dataframe tbody tr th {\n",
       "        vertical-align: top;\n",
       "    }\n",
       "\n",
       "    .dataframe thead th {\n",
       "        text-align: right;\n",
       "    }\n",
       "</style>\n",
       "<table border=\"1\" class=\"dataframe\">\n",
       "  <thead>\n",
       "    <tr style=\"text-align: right;\">\n",
       "      <th></th>\n",
       "      <th>Date</th>\n",
       "      <th>SPX</th>\n",
       "      <th>GLD</th>\n",
       "      <th>USO</th>\n",
       "      <th>SLV</th>\n",
       "      <th>EUR/USD</th>\n",
       "    </tr>\n",
       "  </thead>\n",
       "  <tbody>\n",
       "    <tr>\n",
       "      <th>2285</th>\n",
       "      <td>5/8/2018</td>\n",
       "      <td>2671.919922</td>\n",
       "      <td>124.589996</td>\n",
       "      <td>14.0600</td>\n",
       "      <td>15.5100</td>\n",
       "      <td>1.186789</td>\n",
       "    </tr>\n",
       "    <tr>\n",
       "      <th>2286</th>\n",
       "      <td>5/9/2018</td>\n",
       "      <td>2697.790039</td>\n",
       "      <td>124.330002</td>\n",
       "      <td>14.3700</td>\n",
       "      <td>15.5300</td>\n",
       "      <td>1.184722</td>\n",
       "    </tr>\n",
       "    <tr>\n",
       "      <th>2287</th>\n",
       "      <td>5/10/2018</td>\n",
       "      <td>2723.070068</td>\n",
       "      <td>125.180000</td>\n",
       "      <td>14.4100</td>\n",
       "      <td>15.7400</td>\n",
       "      <td>1.191753</td>\n",
       "    </tr>\n",
       "    <tr>\n",
       "      <th>2288</th>\n",
       "      <td>5/14/2018</td>\n",
       "      <td>2730.129883</td>\n",
       "      <td>124.489998</td>\n",
       "      <td>14.3800</td>\n",
       "      <td>15.5600</td>\n",
       "      <td>1.193118</td>\n",
       "    </tr>\n",
       "    <tr>\n",
       "      <th>2289</th>\n",
       "      <td>5/16/2018</td>\n",
       "      <td>2725.780029</td>\n",
       "      <td>122.543800</td>\n",
       "      <td>14.4058</td>\n",
       "      <td>15.4542</td>\n",
       "      <td>1.182033</td>\n",
       "    </tr>\n",
       "  </tbody>\n",
       "</table>\n",
       "</div>"
      ],
      "text/plain": [
       "           Date          SPX         GLD      USO      SLV   EUR/USD\n",
       "2285   5/8/2018  2671.919922  124.589996  14.0600  15.5100  1.186789\n",
       "2286   5/9/2018  2697.790039  124.330002  14.3700  15.5300  1.184722\n",
       "2287  5/10/2018  2723.070068  125.180000  14.4100  15.7400  1.191753\n",
       "2288  5/14/2018  2730.129883  124.489998  14.3800  15.5600  1.193118\n",
       "2289  5/16/2018  2725.780029  122.543800  14.4058  15.4542  1.182033"
      ]
     },
     "execution_count": 5,
     "metadata": {},
     "output_type": "execute_result"
    }
   ],
   "source": [
    "#print last 5 row in the data frame\n",
    "gold_price.tail()"
   ]
  },
  {
   "cell_type": "code",
   "execution_count": 6,
   "id": "dae32c5f",
   "metadata": {},
   "outputs": [
    {
     "name": "stdout",
     "output_type": "stream",
     "text": [
      "<class 'pandas.core.frame.DataFrame'>\n",
      "RangeIndex: 2290 entries, 0 to 2289\n",
      "Data columns (total 6 columns):\n",
      " #   Column   Non-Null Count  Dtype  \n",
      "---  ------   --------------  -----  \n",
      " 0   Date     2290 non-null   object \n",
      " 1   SPX      2290 non-null   float64\n",
      " 2   GLD      2290 non-null   float64\n",
      " 3   USO      2290 non-null   float64\n",
      " 4   SLV      2290 non-null   float64\n",
      " 5   EUR/USD  2290 non-null   float64\n",
      "dtypes: float64(5), object(1)\n",
      "memory usage: 107.5+ KB\n"
     ]
    }
   ],
   "source": [
    "gold_price.info()"
   ]
  },
  {
   "cell_type": "code",
   "execution_count": 7,
   "id": "cff3d4c1",
   "metadata": {
    "scrolled": true
   },
   "outputs": [
    {
     "data": {
      "text/html": [
       "<div>\n",
       "<style scoped>\n",
       "    .dataframe tbody tr th:only-of-type {\n",
       "        vertical-align: middle;\n",
       "    }\n",
       "\n",
       "    .dataframe tbody tr th {\n",
       "        vertical-align: top;\n",
       "    }\n",
       "\n",
       "    .dataframe thead th {\n",
       "        text-align: right;\n",
       "    }\n",
       "</style>\n",
       "<table border=\"1\" class=\"dataframe\">\n",
       "  <thead>\n",
       "    <tr style=\"text-align: right;\">\n",
       "      <th></th>\n",
       "      <th>SPX</th>\n",
       "      <th>GLD</th>\n",
       "      <th>USO</th>\n",
       "      <th>SLV</th>\n",
       "      <th>EUR/USD</th>\n",
       "    </tr>\n",
       "  </thead>\n",
       "  <tbody>\n",
       "    <tr>\n",
       "      <th>count</th>\n",
       "      <td>2290.000000</td>\n",
       "      <td>2290.000000</td>\n",
       "      <td>2290.000000</td>\n",
       "      <td>2290.000000</td>\n",
       "      <td>2290.000000</td>\n",
       "    </tr>\n",
       "    <tr>\n",
       "      <th>mean</th>\n",
       "      <td>1654.315776</td>\n",
       "      <td>122.732875</td>\n",
       "      <td>31.842221</td>\n",
       "      <td>20.084997</td>\n",
       "      <td>1.283653</td>\n",
       "    </tr>\n",
       "    <tr>\n",
       "      <th>std</th>\n",
       "      <td>519.111540</td>\n",
       "      <td>23.283346</td>\n",
       "      <td>19.523517</td>\n",
       "      <td>7.092566</td>\n",
       "      <td>0.131547</td>\n",
       "    </tr>\n",
       "    <tr>\n",
       "      <th>min</th>\n",
       "      <td>676.530029</td>\n",
       "      <td>70.000000</td>\n",
       "      <td>7.960000</td>\n",
       "      <td>8.850000</td>\n",
       "      <td>1.039047</td>\n",
       "    </tr>\n",
       "    <tr>\n",
       "      <th>25%</th>\n",
       "      <td>1239.874969</td>\n",
       "      <td>109.725000</td>\n",
       "      <td>14.380000</td>\n",
       "      <td>15.570000</td>\n",
       "      <td>1.171313</td>\n",
       "    </tr>\n",
       "    <tr>\n",
       "      <th>50%</th>\n",
       "      <td>1551.434998</td>\n",
       "      <td>120.580002</td>\n",
       "      <td>33.869999</td>\n",
       "      <td>17.268500</td>\n",
       "      <td>1.303297</td>\n",
       "    </tr>\n",
       "    <tr>\n",
       "      <th>75%</th>\n",
       "      <td>2073.010070</td>\n",
       "      <td>132.840004</td>\n",
       "      <td>37.827501</td>\n",
       "      <td>22.882500</td>\n",
       "      <td>1.369971</td>\n",
       "    </tr>\n",
       "    <tr>\n",
       "      <th>max</th>\n",
       "      <td>2872.870117</td>\n",
       "      <td>184.589996</td>\n",
       "      <td>117.480003</td>\n",
       "      <td>47.259998</td>\n",
       "      <td>1.598798</td>\n",
       "    </tr>\n",
       "  </tbody>\n",
       "</table>\n",
       "</div>"
      ],
      "text/plain": [
       "               SPX          GLD          USO          SLV      EUR/USD\n",
       "count  2290.000000  2290.000000  2290.000000  2290.000000  2290.000000\n",
       "mean   1654.315776   122.732875    31.842221    20.084997     1.283653\n",
       "std     519.111540    23.283346    19.523517     7.092566     0.131547\n",
       "min     676.530029    70.000000     7.960000     8.850000     1.039047\n",
       "25%    1239.874969   109.725000    14.380000    15.570000     1.171313\n",
       "50%    1551.434998   120.580002    33.869999    17.268500     1.303297\n",
       "75%    2073.010070   132.840004    37.827501    22.882500     1.369971\n",
       "max    2872.870117   184.589996   117.480003    47.259998     1.598798"
      ]
     },
     "execution_count": 7,
     "metadata": {},
     "output_type": "execute_result"
    }
   ],
   "source": [
    "#getting the statistical measure of data\n",
    "gold_price.describe()"
   ]
  },
  {
   "cell_type": "code",
   "execution_count": 8,
   "id": "04b517e7",
   "metadata": {},
   "outputs": [],
   "source": [
    "#correlation\n",
    "#1. positive correlation\n",
    "#2. negative correlation"
   ]
  },
  {
   "cell_type": "code",
   "execution_count": 9,
   "id": "d3dc9f8b",
   "metadata": {},
   "outputs": [],
   "source": [
    "correlation = gold_price.corr()"
   ]
  },
  {
   "cell_type": "code",
   "execution_count": 10,
   "id": "c40a1d70",
   "metadata": {},
   "outputs": [
    {
     "data": {
      "text/plain": [
       "<AxesSubplot:>"
      ]
     },
     "execution_count": 10,
     "metadata": {},
     "output_type": "execute_result"
    },
    {
     "data": {
      "image/png": "[encoded data removed]",
      "text/plain": [
       "<Figure size 576x576 with 2 Axes>"
      ]
     },
     "metadata": {
      "needs_background": "light"
     },
     "output_type": "display_data"
    }
   ],
   "source": [
    "# constructing a heatmap to understand the correlation\n",
    "plt.figure(figsize=(8,8))\n",
    "sns.heatmap(correlation, cbar=True, square=True, fmt='.1f', annot=True, annot_kws={'size':8}, cmap = 'Blues')"
   ]
  },
  {
   "cell_type": "code",
   "execution_count": 11,
   "id": "5c4a249e",
   "metadata": {},
   "outputs": [
    {
     "data": {
      "text/plain": [
       "SPX        0.049345\n",
       "GLD        1.000000\n",
       "USO       -0.186360\n",
       "SLV        0.866632\n",
       "EUR/USD   -0.024375\n",
       "Name: GLD, dtype: float64"
      ]
     },
     "execution_count": 11,
     "metadata": {},
     "output_type": "execute_result"
    }
   ],
   "source": [
    "#correlation value of GLD\n",
    "correlation['GLD']"
   ]
  },
  {
   "cell_type": "code",
   "execution_count": 12,
   "id": "9ad7a8ac",
   "metadata": {},
   "outputs": [
    {
     "name": "stderr",
     "output_type": "stream",
     "text": [
      "C:\\Users\\DELL\\anaconda3\\lib\\site-packages\\seaborn\\distributions.py:2619: FutureWarning: `distplot` is a deprecated function and will be removed in a future version. Please adapt your code to use either `displot` (a figure-level function with similar flexibility) or `histplot` (an axes-level function for histograms).\n",
      "  warnings.warn(msg, FutureWarning)\n"
     ]
    },
    {
     "data": {
      "text/plain": [
       "<AxesSubplot:xlabel='GLD', ylabel='Density'>"
      ]
     },
     "execution_count": 12,
     "metadata": {},
     "output_type": "execute_result"
    },
    {
     "data": {
      "image/png": "[encoded data removed]",
      "text/plain": [
       "<Figure size 432x288 with 1 Axes>"
      ]
     },
     "metadata": {
      "needs_background": "light"
     },
     "output_type": "display_data"
    }
   ],
   "source": [
    "sns.distplot(gold_price['GLD'], color='green')"
   ]
  },
  {
   "cell_type": "markdown",
   "id": "db3ced49",
   "metadata": {},
   "source": [
    "# Splitting the feature and target"
   ]
  },
  {
   "cell_type": "code",
   "execution_count": 13,
   "id": "c6c7d5ea",
   "metadata": {},
   "outputs": [],
   "source": [
    "X = gold_price.drop(['Date', 'GLD'],axis =1)\n",
    "y = gold_price['GLD']"
   ]
  },
  {
   "cell_type": "code",
   "execution_count": 14,
   "id": "3e01a0a6",
   "metadata": {},
   "outputs": [
    {
     "data": {
      "text/html": [
       "<div>\n",
       "<style scoped>\n",
       "    .dataframe tbody tr th:only-of-type {\n",
       "        vertical-align: middle;\n",
       "    }\n",
       "\n",
       "    .dataframe tbody tr th {\n",
       "        vertical-align: top;\n",
       "    }\n",
       "\n",
       "    .dataframe thead th {\n",
       "        text-align: right;\n",
       "    }\n",
       "</style>\n",
       "<table border=\"1\" class=\"dataframe\">\n",
       "  <thead>\n",
       "    <tr style=\"text-align: right;\">\n",
       "      <th></th>\n",
       "      <th>SPX</th>\n",
       "      <th>USO</th>\n",
       "      <th>SLV</th>\n",
       "      <th>EUR/USD</th>\n",
       "    </tr>\n",
       "  </thead>\n",
       "  <tbody>\n",
       "    <tr>\n",
       "      <th>0</th>\n",
       "      <td>1447.160034</td>\n",
       "      <td>78.470001</td>\n",
       "      <td>15.1800</td>\n",
       "      <td>1.471692</td>\n",
       "    </tr>\n",
       "    <tr>\n",
       "      <th>1</th>\n",
       "      <td>1447.160034</td>\n",
       "      <td>78.370003</td>\n",
       "      <td>15.2850</td>\n",
       "      <td>1.474491</td>\n",
       "    </tr>\n",
       "    <tr>\n",
       "      <th>2</th>\n",
       "      <td>1411.630005</td>\n",
       "      <td>77.309998</td>\n",
       "      <td>15.1670</td>\n",
       "      <td>1.475492</td>\n",
       "    </tr>\n",
       "    <tr>\n",
       "      <th>3</th>\n",
       "      <td>1416.180054</td>\n",
       "      <td>75.500000</td>\n",
       "      <td>15.0530</td>\n",
       "      <td>1.468299</td>\n",
       "    </tr>\n",
       "    <tr>\n",
       "      <th>4</th>\n",
       "      <td>1390.189941</td>\n",
       "      <td>76.059998</td>\n",
       "      <td>15.5900</td>\n",
       "      <td>1.557099</td>\n",
       "    </tr>\n",
       "    <tr>\n",
       "      <th>...</th>\n",
       "      <td>...</td>\n",
       "      <td>...</td>\n",
       "      <td>...</td>\n",
       "      <td>...</td>\n",
       "    </tr>\n",
       "    <tr>\n",
       "      <th>2285</th>\n",
       "      <td>2671.919922</td>\n",
       "      <td>14.060000</td>\n",
       "      <td>15.5100</td>\n",
       "      <td>1.186789</td>\n",
       "    </tr>\n",
       "    <tr>\n",
       "      <th>2286</th>\n",
       "      <td>2697.790039</td>\n",
       "      <td>14.370000</td>\n",
       "      <td>15.5300</td>\n",
       "      <td>1.184722</td>\n",
       "    </tr>\n",
       "    <tr>\n",
       "      <th>2287</th>\n",
       "      <td>2723.070068</td>\n",
       "      <td>14.410000</td>\n",
       "      <td>15.7400</td>\n",
       "      <td>1.191753</td>\n",
       "    </tr>\n",
       "    <tr>\n",
       "      <th>2288</th>\n",
       "      <td>2730.129883</td>\n",
       "      <td>14.380000</td>\n",
       "      <td>15.5600</td>\n",
       "      <td>1.193118</td>\n",
       "    </tr>\n",
       "    <tr>\n",
       "      <th>2289</th>\n",
       "      <td>2725.780029</td>\n",
       "      <td>14.405800</td>\n",
       "      <td>15.4542</td>\n",
       "      <td>1.182033</td>\n",
       "    </tr>\n",
       "  </tbody>\n",
       "</table>\n",
       "<p>2290 rows × 4 columns</p>\n",
       "</div>"
      ],
      "text/plain": [
       "              SPX        USO      SLV   EUR/USD\n",
       "0     1447.160034  78.470001  15.1800  1.471692\n",
       "1     1447.160034  78.370003  15.2850  1.474491\n",
       "2     1411.630005  77.309998  15.1670  1.475492\n",
       "3     1416.180054  75.500000  15.0530  1.468299\n",
       "4     1390.189941  76.059998  15.5900  1.557099\n",
       "...           ...        ...      ...       ...\n",
       "2285  2671.919922  14.060000  15.5100  1.186789\n",
       "2286  2697.790039  14.370000  15.5300  1.184722\n",
       "2287  2723.070068  14.410000  15.7400  1.191753\n",
       "2288  2730.129883  14.380000  15.5600  1.193118\n",
       "2289  2725.780029  14.405800  15.4542  1.182033\n",
       "\n",
       "[2290 rows x 4 columns]"
      ]
     },
     "execution_count": 14,
     "metadata": {},
     "output_type": "execute_result"
    }
   ],
   "source": [
    "X"
   ]
  },
  {
   "cell_type": "code",
   "execution_count": 15,
   "id": "898bf156",
   "metadata": {},
   "outputs": [
    {
     "data": {
      "text/plain": [
       "0        84.860001\n",
       "1        85.570000\n",
       "2        85.129997\n",
       "3        84.769997\n",
       "4        86.779999\n",
       "           ...    \n",
       "2285    124.589996\n",
       "2286    124.330002\n",
       "2287    125.180000\n",
       "2288    124.489998\n",
       "2289    122.543800\n",
       "Name: GLD, Length: 2290, dtype: float64"
      ]
     },
     "execution_count": 15,
     "metadata": {},
     "output_type": "execute_result"
    }
   ],
   "source": [
    "y"
   ]
  },
  {
   "cell_type": "code",
   "execution_count": 16,
   "id": "8ab4f1a7",
   "metadata": {},
   "outputs": [],
   "source": [
    "X_train, X_test, y_train, y_test = train_test_split(X, y, test_size=0.2, random_state=2)"
   ]
  },
  {
   "cell_type": "markdown",
   "id": "4469b95a",
   "metadata": {},
   "source": [
    "# Model Training: Random Forest Regressor"
   ]
  },
  {
   "cell_type": "code",
   "execution_count": 17,
   "id": "4186626e",
   "metadata": {},
   "outputs": [],
   "source": [
    "regressor = RandomForestRegressor(n_estimators=100)"
   ]
  },
  {
   "cell_type": "code",
   "execution_count": 18,
   "id": "b56dcf86",
   "metadata": {
    "scrolled": true
   },
   "outputs": [
    {
     "data": {
      "text/plain": [
       "RandomForestRegressor()"
      ]
     },
     "execution_count": 18,
     "metadata": {},
     "output_type": "execute_result"
    }
   ],
   "source": [
    "#training the model 1\n",
    "regressor.fit(X_train, y_train)"
   ]
  },
  {
   "cell_type": "markdown",
   "id": "7882f2d5",
   "metadata": {},
   "source": [
    "Model Evaluation"
   ]
  },
  {
   "cell_type": "code",
   "execution_count": 20,
   "id": "1e3aa51b",
   "metadata": {},
   "outputs": [],
   "source": [
    "#prediction on test data\n",
    "test_data_prediction = regressor.predict(X_test)"
   ]
  },
  {
   "cell_type": "code",
   "execution_count": 21,
   "id": "04c41a22",
   "metadata": {},
   "outputs": [
    {
     "data": {
      "text/plain": [
       "array([168.1780994 ,  82.26919971, 116.22550005, 127.65230067,\n",
       "       120.59020143, 154.70389785, 150.27969816, 126.22049998,\n",
       "       117.49079873, 125.95810089, 116.60440123, 172.35430037,\n",
       "       141.50419879, 167.52489835, 115.16359997, 117.87320087,\n",
       "       138.98140321, 170.00180105, 159.03910286, 157.76659873,\n",
       "       155.09010031, 125.08090059, 175.90039941, 157.14260346,\n",
       "       125.1956003 ,  93.91730001,  77.01960036, 120.73980028,\n",
       "       119.01129907, 167.48949956,  88.16100083, 125.14580005,\n",
       "        91.20560094, 117.83689993, 121.03809902, 136.1141013 ,\n",
       "       115.3652015 , 114.81930068, 147.85049942, 107.30610102,\n",
       "       104.53470234,  87.37919813, 126.55920014, 118.02949983,\n",
       "       153.54519868, 119.67830012, 108.32869978, 108.17699857,\n",
       "        93.16940027, 127.22439754,  74.94630049, 113.64839959,\n",
       "       121.02510009, 111.169499  , 118.82169871, 120.53059977,\n",
       "       158.68379972, 168.79130068, 146.82739669,  85.84529871,\n",
       "        94.18170029,  86.87509919,  90.64380003, 119.02100072,\n",
       "       126.5091004 , 127.42969989, 169.00269968, 122.24309962,\n",
       "       117.50199887,  98.45030024, 168.2757009 , 143.44079885,\n",
       "       131.85350262, 121.2528018 , 121.08809951, 119.9800005 ,\n",
       "       114.3871013 , 118.3143005 , 106.98580096, 127.83210128,\n",
       "       114.01489961, 107.10150013, 116.73000043, 119.66099914,\n",
       "        88.78990086,  88.20879869, 146.56070216, 127.30800015,\n",
       "       113.3791004 , 110.5086986 , 108.17639901,  77.28639925,\n",
       "       169.31320205, 114.01329916, 121.46999935, 127.57850207,\n",
       "       154.98589769,  91.84209947, 135.91290089, 159.06070302,\n",
       "       125.08330077, 125.13940065, 130.46900117, 114.54940091,\n",
       "       119.87610007,  92.0991    , 110.24799896, 166.79949985,\n",
       "       157.54399889, 114.1330995 , 106.47090166,  79.53149976,\n",
       "       113.29110022, 125.77600068, 107.18809946, 119.31320107,\n",
       "       155.70810336, 159.83439936, 120.31189994, 135.0826031 ,\n",
       "       101.23260004, 117.44639826, 119.08300012, 113.03560084,\n",
       "       102.81139892, 160.19489791,  98.99740005, 148.6020993 ,\n",
       "       125.47520098, 169.60539847, 125.92109853, 127.46469729,\n",
       "       127.35280187, 113.77599924, 112.80730076, 123.41069928,\n",
       "       102.12339897,  89.71069976, 124.81179945, 101.74839891,\n",
       "       107.1334991 , 113.5148004 , 117.52300097,  99.1590994 ,\n",
       "       121.61120048, 163.17419926,  87.59419902, 106.79110005,\n",
       "       117.2610007 , 127.63880117, 124.12120054,  80.71149922,\n",
       "       120.41180052, 158.29949815,  87.84329997, 110.31769938,\n",
       "       118.88119922, 172.80819875, 102.95729925, 105.98640062,\n",
       "       122.39610031, 157.97699782,  87.78339827,  93.5604003 ,\n",
       "       112.93070026, 177.40199972, 114.42019996, 119.1545    ,\n",
       "        94.651601  , 125.56080057, 166.49310131, 114.65740039,\n",
       "       116.63250131,  88.21959864, 149.14000172, 120.25779997,\n",
       "        89.41730025, 112.41450016, 117.18960092, 118.80830126,\n",
       "        88.16339948,  94.08489999, 117.2751998 , 118.71670174,\n",
       "       120.45360099, 126.97639807, 121.84659947, 148.49400056,\n",
       "       165.37690094, 118.55399957, 120.41080111, 150.38710013,\n",
       "       118.2363992 , 172.53549885, 105.50289943, 104.95480141,\n",
       "       149.934202  , 113.66290084, 124.83530067, 147.54959996,\n",
       "       119.67320124, 115.31550046, 112.30680005, 113.42480228,\n",
       "       141.17450141, 117.93689766, 102.93770085, 115.84930104,\n",
       "       103.76840163,  98.55300037, 117.65990077,  90.75720002,\n",
       "        91.76860023, 153.68939891, 102.69079972, 154.57730084,\n",
       "       114.34320166, 138.72520113,  90.25349834, 115.44489948,\n",
       "       114.09309959, 122.83359996, 121.5838003 , 165.37540129,\n",
       "        92.81829943, 135.17060104, 121.32989962, 120.54690064,\n",
       "       104.6117003 , 141.99750283, 121.83259919, 116.57180047,\n",
       "       113.63150059, 127.26249732, 122.64149973, 125.79019992,\n",
       "       121.25340038,  86.82719867, 132.47730125, 146.63400193,\n",
       "        92.68799969, 159.36979976, 159.08760166, 126.26559899,\n",
       "       164.34939958, 109.04179966, 109.80060082, 103.69589819,\n",
       "        94.41090092, 127.54870278, 107.08100081, 161.75989999,\n",
       "       121.5097005 , 131.93320025, 130.55700138, 160.45969985,\n",
       "        90.22119866, 175.56380213, 127.35860007, 126.77139863,\n",
       "        86.30739926, 124.62959979, 150.05699699,  89.56610075,\n",
       "       106.97729992, 109.05239982,  83.87769903, 136.30159938,\n",
       "       154.98300121, 139.93740391,  74.42029997, 152.22220125,\n",
       "       126.33939997, 126.70380015, 127.52719925, 108.6396994 ,\n",
       "       156.60200019, 114.40440108, 116.9874016 , 125.56269971,\n",
       "       154.10600197, 121.26230006, 156.32309908,  92.97200065,\n",
       "       125.44140144, 126.01300054,  88.00330035,  92.19869937,\n",
       "       126.13969974, 127.97230362, 113.15020033, 117.58339757,\n",
       "       120.65150017, 127.44199763, 119.72950098, 135.99120043,\n",
       "        93.79739908, 120.13480055, 113.23550129,  94.12909931,\n",
       "       108.99910008,  87.23729943, 108.74169943,  89.56309968,\n",
       "        92.40230021, 131.55680299, 162.46650068,  89.28329993,\n",
       "       119.59970109, 133.3666019 , 123.85260019, 128.27670157,\n",
       "       102.03009849,  89.01809869, 131.54280095, 119.90960019,\n",
       "       108.68160011, 166.97970094, 115.27580009,  86.60989856,\n",
       "       118.92680074,  91.0591998 , 161.62010006, 116.63650062,\n",
       "       121.65730022, 160.21819762, 120.13249916, 112.41359921,\n",
       "       108.48619869, 126.52419981,  76.09970028, 102.9583999 ,\n",
       "       127.57240243, 121.71699935,  92.59329966, 131.55970068,\n",
       "       118.06840073, 115.97459972, 154.60530285, 160.19520084,\n",
       "       110.07559939, 153.60509766, 119.37390095, 160.69000033,\n",
       "       118.77580046, 158.7006997 , 115.1328995 , 116.58650037,\n",
       "       148.94109852, 114.7203004 , 125.65369851, 165.22119962,\n",
       "       117.67220019, 125.09599954, 153.40960314, 153.50040218,\n",
       "       132.23060068, 114.70770042, 121.26930178, 124.46050027,\n",
       "        89.9411003 , 123.26239983, 154.78650102, 111.6057    ,\n",
       "       106.87209966, 161.58480138, 118.75840015, 165.77460034,\n",
       "       133.96540146, 115.03849994, 152.92639886, 168.74410034,\n",
       "       115.2491002 , 114.06300128, 156.8378994 ,  85.036199  ,\n",
       "       127.15650057, 127.97160053, 128.81750021, 124.46650073,\n",
       "       123.98930105,  90.3783005 , 153.02330013,  97.01839979,\n",
       "       136.83429966,  89.02039913, 107.13410014, 115.01000024,\n",
       "       112.71070096, 124.39399934,  91.39979898, 125.35530093,\n",
       "       162.38259902, 119.78439901, 165.12170058, 127.02199775,\n",
       "       112.3672002 , 127.56639956,  94.96259912,  90.96149985,\n",
       "       103.04489899, 120.71749987,  83.09329938, 126.46729984,\n",
       "       160.15110486, 117.19730065, 118.27169996, 120.04670005,\n",
       "       122.66929982, 120.08650134, 121.46030011, 117.87520035,\n",
       "       107.04420012, 148.06029991, 126.33009828, 115.87290101,\n",
       "        73.76980006, 127.89820137, 154.3980009 , 122.24310014,\n",
       "       125.56550095,  88.87689983, 103.69629877, 124.19260077,\n",
       "       120.22510055,  73.36910081, 151.74729983, 120.80340022,\n",
       "       104.77009991,  86.26649773, 115.41239898, 172.29229799,\n",
       "       120.00970044, 160.03069796, 113.20449954, 121.26839987,\n",
       "       118.33180113,  95.85869989, 118.62540053, 125.66750011,\n",
       "       118.57929949,  95.70160032, 153.41050192, 122.12640027,\n",
       "       147.29359952, 159.9435028 , 113.77930064, 122.32889964,\n",
       "       149.55749824, 127.47290051, 165.84040023, 136.56859987,\n",
       "       120.01469962, 166.97879935, 108.3537989 , 121.53479873,\n",
       "       138.76160127, 106.18949903])"
      ]
     },
     "execution_count": 21,
     "metadata": {},
     "output_type": "execute_result"
    }
   ],
   "source": [
    "test_data_prediction"
   ]
  },
  {
   "cell_type": "code",
   "execution_count": 25,
   "id": "8a6ca990",
   "metadata": {},
   "outputs": [
    {
     "name": "stdout",
     "output_type": "stream",
     "text": [
      "R squared error: 0.9894806793769092\n"
     ]
    }
   ],
   "source": [
    "# R squared error\n",
    "error_score = metrics.r2_score(y_test, test_data_prediction)\n",
    "print(\"R squared error:\", error_score)"
   ]
  },
  {
   "cell_type": "code",
   "execution_count": 26,
   "id": "9ac7eac2",
   "metadata": {},
   "outputs": [],
   "source": [
    "#compare the actual values and predicted value in a plot\n",
    "y_test = list(y_test)"
   ]
  },
  {
   "cell_type": "code",
   "execution_count": 28,
   "id": "b1ac8dfc",
   "metadata": {},
   "outputs": [
    {
     "data": {
      "image/png": "[encoded data removed]",
      "text/plain": [
       "<Figure size 432x288 with 1 Axes>"
      ]
     },
     "metadata": {
      "needs_background": "light"
     },
     "output_type": "display_data"
    }
   ],
   "source": [
    "plt.plot(y_test, color='blue', label = 'Actual Value')\n",
    "#plt.plot(test_data_prediction, 'green', label='Predicted Value')\n",
    "plt.title('Actual Value vs Predicted Value')\n",
    "plt.xlabel('Number of values')\n",
    "plt.ylabel('GLD price')\n",
    "plt.legend()\n",
    "plt.show()"
   ]
  },
  {
   "cell_type": "code",
   "execution_count": 29,
   "id": "c5e7ec7e",
   "metadata": {},
   "outputs": [
    {
     "data": {
      "image/png": "[encoded data removed]",
      "text/plain": [
       "<Figure size 432x288 with 1 Axes>"
      ]
     },
     "metadata": {
      "needs_background": "light"
     },
     "output_type": "display_data"
    }
   ],
   "source": [
    "#plt.plot(y_test, color='blue', label = 'Actual Value')\n",
    "plt.plot(test_data_prediction, 'green', label='Predicted Value')\n",
    "plt.title('Actual Value vs Predicted Value')\n",
    "plt.xlabel('Number of values')\n",
    "plt.ylabel('GLD price')\n",
    "plt.legend()\n",
    "plt.show()"
   ]
  },
  {
   "cell_type": "code",
   "execution_count": 30,
   "id": "83db2303",
   "metadata": {},
   "outputs": [
    {
     "data": {
      "image/png": "[encoded data removed]",
      "text/plain": [
       "<Figure size 432x288 with 1 Axes>"
      ]
     },
     "metadata": {
      "needs_background": "light"
     },
     "output_type": "display_data"
    }
   ],
   "source": [
    "plt.plot(y_test, color='blue', label = 'Actual Value')\n",
    "plt.plot(test_data_prediction, 'green', label='Predicted Value')\n",
    "plt.title('Actual Value vs Predicted Value')\n",
    "plt.xlabel('Number of values')\n",
    "plt.ylabel('GLD price')\n",
    "plt.legend()\n",
    "plt.show()"
   ]
  },
  {
   "cell_type": "code",
   "execution_count": null,
   "id": "ebd1e5c7",
   "metadata": {},
   "outputs": [],
   "source": []
  }
 ],
 "metadata": {
  "kernelspec": {
   "display_name": "Python 3 (ipykernel)",
   "language": "python",
   "name": "python3"
  },
  "language_info": {
   "codemirror_mode": {
    "name": "ipython",
    "version": 3
   },
   "file_extension": ".py",
   "mimetype": "text/x-python",
   "name": "python",
   "nbconvert_exporter": "python",
   "pygments_lexer": "ipython3",
   "version": "3.9.7"
  }
 },
 "nbformat": 4,
 "nbformat_minor": 5
}
